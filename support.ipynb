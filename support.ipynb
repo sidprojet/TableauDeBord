{ 
 "cells": [ 
  { 
   "cell_type": "markdown", 
   "metadata": {}, 
   "source": [ 
    "# data.world\n", 
    "## Marijuana Laws by State" 
   ] 
  }, 
  { 
   "cell_type": "markdown", 
   "metadata": {}, 
   "source": [ 
    "> #### Setup  \n", 
    "\n", 
    "> Before running data.world notebooks for the first time, you'll need to:  \n", 
    "1. Install data.world's Python package, including optional `pandas` dependencies: \n", 
    "```shell\n", 
    "pip install git+git://github.com/datadotworld/data.world-py.git#egg=project[pandas]\n", 
    "```\n", 
    "1. Obtain an API access token at https://data.world/settings/advanced\n", 
    "1. Store API access token using the `dw` command-line tool: \n", 
    "```shell\n", 
    "dw configure\n", 
    "```\n", 
    "\n", 
    "> Once your environment is set up, these steps do not need to be repeated for other data.world notebooks." 
   ] 
  }, 
  { 
   "cell_type": "code", 
   "execution_count": null, 
   "metadata": { 
    "collapsed": true 
   }, 
   "outputs": [], 
   "source": [ 
    "import datadotworld as dw" 
   ] 
  }, 
  { 
   "cell_type": "code", 
   "execution_count": null, 
   "metadata": { 
    "collapsed": true 
   }, 
   "outputs": [], 
   "source": [ 
    "# Datasets are referenced by their path\n", 
    "dataset_key = 'sya/marijuana-laws-by-state'\n", 
    "\n", 
    "# Or simply by their URL\n", 
    "dataset_key = 'https://data.world/sya/marijuana-laws-by-state'" 
   ] 
  }, 
  { 
   "cell_type": "code", 
   "execution_count": null, 
   "metadata": {}, 
   "outputs": [], 
   "source": [ 
    "# Load dataset (onto the local file system)\n", 
    "dataset_local = dw.load_dataset(dataset_key)  # cached under ~/.dw/cache" 
   ] 
  }, 
  { 
   "cell_type": "code", 
   "execution_count": null, 
   "metadata": {}, 
   "outputs": [], 
   "source": [ 
    "# See what is in it\n", 
    "dataset_local.describe()" 
doc
